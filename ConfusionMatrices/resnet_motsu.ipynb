{
  "nbformat": 4,
  "nbformat_minor": 0,
  "metadata": {
    "colab": {
      "name": "resnet_motsu.ipynb",
      "provenance": [],
      "collapsed_sections": []
    },
    "kernelspec": {
      "name": "python3",
      "display_name": "Python 3"
    },
    "language_info": {
      "name": "python"
    },
    "accelerator": "GPU"
  },
  "cells": [
    {
      "cell_type": "code",
      "execution_count": 1,
      "metadata": {
        "id": "tQUJxlcsuErb"
      },
      "outputs": [],
      "source": [
        "from tensorflow.keras.layers import Conv2D,Flatten,Dense,MaxPool2D,BatchNormalization,GlobalAveragePooling2D\n",
        "from tensorflow.keras.applications.resnet50 import preprocess_input,decode_predictions\n",
        "from tensorflow.keras.preprocessing.image import ImageDataGenerator,load_img\n",
        "from tensorflow.keras.applications.resnet50 import ResNet50\n",
        "from tensorflow.keras.preprocessing import image\n",
        "from tensorflow.keras.models import Sequential\n",
        "from tensorflow.keras.models import Model\n",
        "import matplotlib.pyplot as plt\n",
        "import numpy as np"
      ]
    },
    {
      "cell_type": "code",
      "source": [
        "from google.colab import drive\n",
        "drive.mount('/content/drive')"
      ],
      "metadata": {
        "colab": {
          "base_uri": "https://localhost:8080/"
        },
        "id": "PSoQlR71uKca",
        "outputId": "16520cf0-8f85-4361-87d8-4b00645faa31"
      },
      "execution_count": 2,
      "outputs": [
        {
          "output_type": "stream",
          "name": "stdout",
          "text": [
            "Mounted at /content/drive\n"
          ]
        }
      ]
    },
    {
      "cell_type": "code",
      "source": [
        "img_height, img_width = (244,244)\n",
        "batch_size = 32\n",
        "\n",
        "train_data_dir = r\"/content/drive/MyDrive/BrainTumor/Multi_Otsu/training\"\n",
        "valid_data_dir = r\"/content/drive/MyDrive/BrainTumor/Multi_Otsu/testing\"\n",
        "test_data_dir = r\"/content/drive/MyDrive/BrainTumor/Multi_Otsu/testing\""
      ],
      "metadata": {
        "id": "f99WSluhvJcP"
      },
      "execution_count": 3,
      "outputs": []
    },
    {
      "cell_type": "code",
      "source": [
        "train_datagen = ImageDataGenerator(preprocessing_function=preprocess_input, shear_range=0.2,zoom_range=0.2,horizontal_flip=True, validation_split=0.4)\n",
        "\n",
        "train_generator = train_datagen.flow_from_directory(\n",
        "    train_data_dir,\n",
        "    target_size=(img_height,img_width),\n",
        "    batch_size=batch_size,\n",
        "    class_mode='categorical',\n",
        "    subset='training')\n",
        "\n",
        "valid_generator = train_datagen.flow_from_directory(\n",
        "    valid_data_dir,\n",
        "    target_size=(img_height,img_width),\n",
        "    batch_size=batch_size,\n",
        "    class_mode='categorical',\n",
        "    subset='validation')"
      ],
      "metadata": {
        "colab": {
          "base_uri": "https://localhost:8080/"
        },
        "id": "w2rC0Lu9vpgw",
        "outputId": "903576e1-637f-46c2-dc58-e73f66742ffb"
      },
      "execution_count": 4,
      "outputs": [
        {
          "output_type": "stream",
          "name": "stdout",
          "text": [
            "Found 1736 images belonging to 4 classes.\n",
            "Found 157 images belonging to 4 classes.\n"
          ]
        }
      ]
    },
    {
      "cell_type": "code",
      "source": [
        "test_generator = train_datagen.flow_from_directory(\n",
        "    test_data_dir,\n",
        "    target_size=(img_height,img_width),\n",
        "    batch_size=1,\n",
        "    class_mode='categorical',\n",
        "    subset='validation')"
      ],
      "metadata": {
        "colab": {
          "base_uri": "https://localhost:8080/"
        },
        "id": "OVfD_KauwAsJ",
        "outputId": "f48c2a59-a7dc-4681-9cb9-18382c187a64"
      },
      "execution_count": 5,
      "outputs": [
        {
          "output_type": "stream",
          "name": "stdout",
          "text": [
            "Found 157 images belonging to 4 classes.\n"
          ]
        }
      ]
    },
    {
      "cell_type": "code",
      "source": [
        "x,y = test_generator.next()\n",
        "x.shape"
      ],
      "metadata": {
        "colab": {
          "base_uri": "https://localhost:8080/"
        },
        "id": "hzqAovUnwEJp",
        "outputId": "cf08b72c-f384-4ea1-b523-f8cd8268c5c0"
      },
      "execution_count": 6,
      "outputs": [
        {
          "output_type": "execute_result",
          "data": {
            "text/plain": [
              "(1, 244, 244, 3)"
            ]
          },
          "metadata": {},
          "execution_count": 6
        }
      ]
    },
    {
      "cell_type": "code",
      "source": [
        "base_model = ResNet50(include_top=False, weights = 'imagenet')\n",
        "x = base_model.output\n",
        "x = GlobalAveragePooling2D()(x)\n",
        "x = Dense(1024, activation='relu')(x)\n",
        "predictions = Dense(train_generator.num_classes, activation='softmax')(x)\n",
        "model = Model(inputs=base_model.input, outputs=predictions)\n",
        "\n",
        "for layer in base_model.layers:\n",
        "  layer.trainable = False\n",
        "\n",
        "model.compile(optimizer='adam',loss = 'categorical_crossentropy', metrics = ['accuracy'])\n",
        "model.fit(train_generator, epochs = 10)"
      ],
      "metadata": {
        "colab": {
          "base_uri": "https://localhost:8080/"
        },
        "id": "wZHywqG6wG7_",
        "outputId": "72fb18b5-a373-4821-a270-e0da4c4be722"
      },
      "execution_count": 7,
      "outputs": [
        {
          "output_type": "stream",
          "name": "stdout",
          "text": [
            "Downloading data from https://storage.googleapis.com/tensorflow/keras-applications/resnet/resnet50_weights_tf_dim_ordering_tf_kernels_notop.h5\n",
            "94773248/94765736 [==============================] - 1s 0us/step\n",
            "94781440/94765736 [==============================] - 1s 0us/step\n",
            "Epoch 1/10\n",
            "55/55 [==============================] - 879s 16s/step - loss: 1.4749 - accuracy: 0.6043\n",
            "Epoch 2/10\n",
            "55/55 [==============================] - 38s 686ms/step - loss: 0.5459 - accuracy: 0.7955\n",
            "Epoch 3/10\n",
            "55/55 [==============================] - 38s 694ms/step - loss: 0.4349 - accuracy: 0.8185\n",
            "Epoch 4/10\n",
            "55/55 [==============================] - 39s 706ms/step - loss: 0.4057 - accuracy: 0.8450\n",
            "Epoch 5/10\n",
            "55/55 [==============================] - 38s 690ms/step - loss: 0.3741 - accuracy: 0.8497\n",
            "Epoch 6/10\n",
            "55/55 [==============================] - 38s 690ms/step - loss: 0.3445 - accuracy: 0.8658\n",
            "Epoch 7/10\n",
            "55/55 [==============================] - 38s 692ms/step - loss: 0.2630 - accuracy: 0.8992\n",
            "Epoch 8/10\n",
            "55/55 [==============================] - 38s 692ms/step - loss: 0.2815 - accuracy: 0.8969\n",
            "Epoch 9/10\n",
            "55/55 [==============================] - 39s 709ms/step - loss: 0.2685 - accuracy: 0.8998\n",
            "Epoch 10/10\n",
            "55/55 [==============================] - 38s 691ms/step - loss: 0.2342 - accuracy: 0.9136\n"
          ]
        },
        {
          "output_type": "execute_result",
          "data": {
            "text/plain": [
              "<keras.callbacks.History at 0x7fc6deef0610>"
            ]
          },
          "metadata": {},
          "execution_count": 7
        }
      ]
    },
    {
      "cell_type": "code",
      "source": [
        "test_loss, test_acc = model.evaluate(test_generator, verbose=2)"
      ],
      "metadata": {
        "colab": {
          "base_uri": "https://localhost:8080/"
        },
        "id": "YofkRQ1gw6Sb",
        "outputId": "22527075-9f13-4615-e78f-f5a3703920ed"
      },
      "execution_count": 16,
      "outputs": [
        {
          "output_type": "stream",
          "name": "stdout",
          "text": [
            "157/157 - 5s - loss: 1.8031 - accuracy: 0.5796 - 5s/epoch - 31ms/step\n"
          ]
        }
      ]
    },
    {
      "cell_type": "code",
      "source": [
        "model.save(\"/content/save.h5\")"
      ],
      "metadata": {
        "id": "Rpsgw93Lw68F"
      },
      "execution_count": 9,
      "outputs": []
    },
    {
      "cell_type": "code",
      "source": [
        "import pandas as pd\n",
        "import seaborn as sn\n",
        "import tensorflow as tf\n",
        "\n",
        "model = tf.keras.models.load_model(\"/content/save.h5\")\n",
        "filenames = test_generator.filenames\n",
        "nb_samples = len(test_generator)\n",
        "y_prob=[]\n",
        "y_act=[]\n",
        "test_generator.reset()\n",
        "for _ in range(nb_samples):\n",
        "  X_test,Y_test = test_generator.next()\n",
        "  y_prob.append(Y_test)\n",
        "  y_act.append(Y_test)\n",
        "\n",
        "predicted_class = [list(train_generator.class_indices.keys())[i.argmax()] for i in y_prob]\n",
        "actual_class = [list(train_generator.class_indices.keys())[i.argmax()] for i in y_act]\n",
        "\n",
        "out_df = pd.DataFrame(np.vstack([predicted_class,actual_class]).T,columns=['predicted_class','actual_class'])\n",
        "confusion_matrix = pd.crosstab(out_df['actual_class'],out_df['predicted_class'], rownames=['Actual'],colnames=['Predicted'])\n",
        "\n",
        "sn.heatmap(confusion_matrix,cmap='Blues', annot=True,fmt='d')\n",
        "plt.show()\n",
        "print('test accuracy : ()'.format((np.diagonal(confusion_matrix).sum()/confusion_matrix.sum().sum()*100)))"
      ],
      "metadata": {
        "colab": {
          "base_uri": "https://localhost:8080/",
          "height": 384
        },
        "id": "49OBnRqSGsXM",
        "outputId": "993a395c-d716-40a7-fb53-acb0c7ad1340"
      },
      "execution_count": 10,
      "outputs": [
        {
          "output_type": "display_data",
          "data": {
            "text/plain": [
              "<Figure size 432x288 with 2 Axes>"
            ],
            "image/png": "[encoded data removed]"
          },
          "metadata": {
            "needs_background": "light"
          }
        },
        {
          "output_type": "stream",
          "name": "stdout",
          "text": [
            "test accuracy : ()\n"
          ]
        }
      ]
    }
  ]
}