{
  "nbformat": 4,
  "nbformat_minor": 0,
  "metadata": {
    "colab": {
      "name": "resnet_otsu.ipynb",
      "provenance": [],
      "collapsed_sections": []
    },
    "kernelspec": {
      "name": "python3",
      "display_name": "Python 3"
    },
    "language_info": {
      "name": "python"
    },
    "accelerator": "GPU"
  },
  "cells": [
    {
      "cell_type": "code",
      "execution_count": 2,
      "metadata": {
        "id": "FVR1atq2BOmq"
      },
      "outputs": [],
      "source": [
        "from tensorflow.keras.layers import Conv2D,Flatten,Dense,MaxPool2D,BatchNormalization,GlobalAveragePooling2D\n",
        "from tensorflow.keras.applications.resnet50 import preprocess_input,decode_predictions\n",
        "from tensorflow.keras.preprocessing.image import ImageDataGenerator,load_img\n",
        "from tensorflow.keras.applications.resnet50 import ResNet50\n",
        "from tensorflow.keras.preprocessing import image\n",
        "from tensorflow.keras.models import Sequential\n",
        "from tensorflow.keras.models import Model\n",
        "import matplotlib.pyplot as plt\n",
        "import numpy as np"
      ]
    },
    {
      "cell_type": "code",
      "source": [
        "from google.colab import drive\n",
        "drive.mount('/content/drive')"
      ],
      "metadata": {
        "colab": {
          "base_uri": "https://localhost:8080/"
        },
        "id": "y6rL6ld7Beo9",
        "outputId": "7699f23f-1222-44bd-9c93-f0630c3d581a"
      },
      "execution_count": 1,
      "outputs": [
        {
          "output_type": "stream",
          "name": "stdout",
          "text": [
            "Mounted at /content/drive\n"
          ]
        }
      ]
    },
    {
      "cell_type": "code",
      "source": [
        "img_height, img_width = (244,244)\n",
        "batch_size = 32\n",
        "\n",
        "train_data_dir = r\"/content/drive/MyDrive/BrainTumor/Otsu/Training\"\n",
        "valid_data_dir = r\"/content/drive/MyDrive/BrainTumor/Otsu/Testing\"\n",
        "test_data_dir = r\"/content/drive/MyDrive/BrainTumor/Otsu/Testing\""
      ],
      "metadata": {
        "id": "FN1rpHMbBoNm"
      },
      "execution_count": 3,
      "outputs": []
    },
    {
      "cell_type": "code",
      "source": [
        "train_datagen = ImageDataGenerator(preprocessing_function=preprocess_input, shear_range=0.2,zoom_range=0.2,horizontal_flip=True, validation_split=0.4)\n",
        "\n",
        "train_generator = train_datagen.flow_from_directory(\n",
        "    train_data_dir,\n",
        "    target_size=(img_height,img_width),\n",
        "    batch_size=batch_size,\n",
        "    class_mode='categorical',\n",
        "    subset='training')\n",
        "\n",
        "valid_generator = train_datagen.flow_from_directory(\n",
        "    valid_data_dir,\n",
        "    target_size=(img_height,img_width),\n",
        "    batch_size=batch_size,\n",
        "    class_mode='categorical',\n",
        "    subset='validation')"
      ],
      "metadata": {
        "colab": {
          "base_uri": "https://localhost:8080/"
        },
        "id": "j7ctSCHHGvEz",
        "outputId": "1773a418-278b-428b-e6d4-f8d48a11c5de"
      },
      "execution_count": 4,
      "outputs": [
        {
          "output_type": "stream",
          "name": "stdout",
          "text": [
            "Found 1722 images belonging to 4 classes.\n",
            "Found 158 images belonging to 4 classes.\n"
          ]
        }
      ]
    },
    {
      "cell_type": "code",
      "source": [
        "test_generator = train_datagen.flow_from_directory(\n",
        "    test_data_dir,\n",
        "    target_size=(img_height,img_width),\n",
        "    batch_size=1,\n",
        "    class_mode='categorical',\n",
        "    subset='validation')"
      ],
      "metadata": {
        "colab": {
          "base_uri": "https://localhost:8080/"
        },
        "id": "GyZSyqKEGxqn",
        "outputId": "20a5a0aa-3eef-46cc-cbd5-87bd13e27bd3"
      },
      "execution_count": 5,
      "outputs": [
        {
          "output_type": "stream",
          "name": "stdout",
          "text": [
            "Found 158 images belonging to 4 classes.\n"
          ]
        }
      ]
    },
    {
      "cell_type": "code",
      "source": [
        "x,y = test_generator.next()\n",
        "x.shape"
      ],
      "metadata": {
        "colab": {
          "base_uri": "https://localhost:8080/"
        },
        "id": "ocCIurKxG0R-",
        "outputId": "03223118-4fae-43b1-f377-887e114bfabf"
      },
      "execution_count": 6,
      "outputs": [
        {
          "output_type": "execute_result",
          "data": {
            "text/plain": [
              "(1, 244, 244, 3)"
            ]
          },
          "metadata": {},
          "execution_count": 6
        }
      ]
    },
    {
      "cell_type": "code",
      "source": [
        "base_model = ResNet50(include_top=False, weights = 'imagenet')\n",
        "x = base_model.output\n",
        "x = GlobalAveragePooling2D()(x)\n",
        "x = Dense(1024, activation='relu')(x)\n",
        "predictions = Dense(train_generator.num_classes, activation='softmax')(x)\n",
        "model = Model(inputs=base_model.input, outputs=predictions)\n",
        "\n",
        "for layer in base_model.layers:\n",
        "  layer.trainable = False\n",
        "\n",
        "model.compile(optimizer='adam',loss = 'categorical_crossentropy', metrics = ['accuracy'])\n",
        "model.fit(train_generator, epochs = 10)"
      ],
      "metadata": {
        "colab": {
          "base_uri": "https://localhost:8080/"
        },
        "id": "w6Mz63L4nNm2",
        "outputId": "517cdc70-b818-4a78-faae-bcbaad3c0a3d"
      },
      "execution_count": 8,
      "outputs": [
        {
          "output_type": "stream",
          "name": "stdout",
          "text": [
            "Epoch 1/10\n",
            "54/54 [==============================] - 39s 651ms/step - loss: 1.4277 - accuracy: 0.5854\n",
            "Epoch 2/10\n",
            "54/54 [==============================] - 35s 648ms/step - loss: 0.6441 - accuracy: 0.7433\n",
            "Epoch 3/10\n",
            "54/54 [==============================] - 35s 650ms/step - loss: 0.5597 - accuracy: 0.7811\n",
            "Epoch 4/10\n",
            "54/54 [==============================] - 35s 645ms/step - loss: 0.5269 - accuracy: 0.7880\n",
            "Epoch 5/10\n",
            "54/54 [==============================] - 35s 647ms/step - loss: 0.5442 - accuracy: 0.7863\n",
            "Epoch 6/10\n",
            "54/54 [==============================] - 35s 647ms/step - loss: 0.5070 - accuracy: 0.8066\n",
            "Epoch 7/10\n",
            "54/54 [==============================] - 35s 647ms/step - loss: 0.4224 - accuracy: 0.8333\n",
            "Epoch 8/10\n",
            "54/54 [==============================] - 36s 656ms/step - loss: 0.4850 - accuracy: 0.8118\n",
            "Epoch 9/10\n",
            "54/54 [==============================] - 35s 645ms/step - loss: 0.4233 - accuracy: 0.8298\n",
            "Epoch 10/10\n",
            "54/54 [==============================] - 35s 645ms/step - loss: 0.3547 - accuracy: 0.8600\n"
          ]
        },
        {
          "output_type": "execute_result",
          "data": {
            "text/plain": [
              "<keras.callbacks.History at 0x7f4e855d1050>"
            ]
          },
          "metadata": {},
          "execution_count": 8
        }
      ]
    },
    {
      "cell_type": "code",
      "source": [
        "test_loss, test_acc = model.evaluate(test_generator, verbose=2)"
      ],
      "metadata": {
        "id": "d_TuzLp4xEzt",
        "colab": {
          "base_uri": "https://localhost:8080/"
        },
        "outputId": "a47ed2f4-408e-4dde-8ecc-978d9a80e2fd"
      },
      "execution_count": 15,
      "outputs": [
        {
          "output_type": "stream",
          "name": "stdout",
          "text": [
            "158/158 - 5s - loss: 3.4656 - accuracy: 0.3671 - 5s/epoch - 29ms/step\n"
          ]
        }
      ]
    },
    {
      "cell_type": "code",
      "source": [
        "model.save(\"/content/save.h5\")"
      ],
      "metadata": {
        "id": "-PjlSdiyF8M5"
      },
      "execution_count": 10,
      "outputs": []
    },
    {
      "cell_type": "code",
      "source": [
        "import pandas as pd\n",
        "import seaborn as sn\n",
        "import tensorflow as tf\n",
        "\n",
        "model = tf.keras.models.load_model(\"/content/save.h5\")\n",
        "filenames = test_generator.filenames\n",
        "nb_samples = len(test_generator)\n",
        "y_prob=[]\n",
        "y_act=[]\n",
        "test_generator.reset()\n",
        "for _ in range(nb_samples):\n",
        "  X_test,Y_test = test_generator.next()\n",
        "  y_prob.append(Y_test)\n",
        "  y_act.append(Y_test)\n",
        "\n",
        "predicted_class = [list(train_generator.class_indices.keys())[i.argmax()] for i in y_prob]\n",
        "actual_class = [list(train_generator.class_indices.keys())[i.argmax()] for i in y_act]\n",
        "\n",
        "out_df = pd.DataFrame(np.vstack([predicted_class,actual_class]).T,columns=['predicted_class','actual_class'])\n",
        "confusion_matrix = pd.crosstab(out_df['actual_class'],out_df['predicted_class'], rownames=['Actual'],colnames=['Predicted'])\n",
        "\n",
        "sn.heatmap(confusion_matrix,cmap='Blues', annot=True,fmt='d')\n",
        "plt.show()\n",
        "print('test accuracy : ()'.format((np.diagonal(confusion_matrix).sum()/confusion_matrix.sum().sum()*100)))"
      ],
      "metadata": {
        "colab": {
          "base_uri": "https://localhost:8080/",
          "height": 384
        },
        "id": "mjNc_GmRF5DX",
        "outputId": "346e653b-6f53-43ee-c6b7-0ce9beeae05a"
      },
      "execution_count": 11,
      "outputs": [
        {
          "output_type": "display_data",
          "data": {
            "text/plain": [
              "<Figure size 432x288 with 2 Axes>"
            ],
            "image/png": "[encoded data removed]"
          },
          "metadata": {
            "needs_background": "light"
          }
        },
        {
          "output_type": "stream",
          "name": "stdout",
          "text": [
            "test accuracy : ()\n"
          ]
        }
      ]
    }
  ]
}