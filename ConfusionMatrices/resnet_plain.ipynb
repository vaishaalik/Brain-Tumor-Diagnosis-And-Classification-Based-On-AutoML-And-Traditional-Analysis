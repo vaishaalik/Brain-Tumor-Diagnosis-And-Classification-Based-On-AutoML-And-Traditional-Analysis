{
  "nbformat": 4,
  "nbformat_minor": 0,
  "metadata": {
    "colab": {
      "name": "resnet_plain.ipynb",
      "provenance": [],
      "collapsed_sections": []
    },
    "kernelspec": {
      "name": "python3",
      "display_name": "Python 3"
    },
    "language_info": {
      "name": "python"
    },
    "accelerator": "GPU"
  },
  "cells": [
    {
      "cell_type": "code",
      "execution_count": 2,
      "metadata": {
        "id": "dEnsBSCCRmZo"
      },
      "outputs": [],
      "source": [
        "from tensorflow.keras.layers import Conv2D,Flatten,Dense,MaxPool2D,BatchNormalization,GlobalAveragePooling2D\n",
        "from tensorflow.keras.applications.resnet50 import preprocess_input,decode_predictions\n",
        "from tensorflow.keras.preprocessing.image import ImageDataGenerator,load_img\n",
        "from tensorflow.keras.applications.resnet50 import ResNet50\n",
        "from tensorflow.keras.preprocessing import image\n",
        "from tensorflow.keras.models import Sequential\n",
        "from tensorflow.keras.models import Model\n",
        "import matplotlib.pyplot as plt\n",
        "import numpy as np"
      ]
    },
    {
      "cell_type": "code",
      "source": [
        "img_height, img_width = (244,244)\n",
        "batch_size = 32\n",
        "\n",
        "train_data_dir = r\"/content/drive/MyDrive/BrainTumor/OriginalImages/Training\"\n",
        "valid_data_dir = r\"/content/drive/MyDrive/BrainTumor/OriginalImages/Testing\"\n",
        "test_data_dir = r\"/content/drive/MyDrive/BrainTumor/OriginalImages/Testing\""
      ],
      "metadata": {
        "id": "hvtQPMI7S-Fj"
      },
      "execution_count": 4,
      "outputs": []
    },
    {
      "cell_type": "code",
      "source": [
        "from google.colab import drive\n",
        "drive.mount('/content/drive')"
      ],
      "metadata": {
        "colab": {
          "base_uri": "https://localhost:8080/"
        },
        "id": "Ao0sZAMTXR6F",
        "outputId": "62d9cc3a-0acd-4cc0-9492-a4a96ac49cd1"
      },
      "execution_count": 1,
      "outputs": [
        {
          "output_type": "stream",
          "name": "stdout",
          "text": [
            "Mounted at /content/drive\n"
          ]
        }
      ]
    },
    {
      "cell_type": "code",
      "source": [
        "train_datagen = ImageDataGenerator(preprocessing_function=preprocess_input, shear_range=0.2,zoom_range=0.2,horizontal_flip=True, validation_split=0.4)\n",
        "\n",
        "train_generator = train_datagen.flow_from_directory(\n",
        "    train_data_dir,\n",
        "    target_size=(img_height,img_width),\n",
        "    batch_size=batch_size,\n",
        "    class_mode='categorical',\n",
        "    subset='training')\n",
        "\n",
        "valid_generator = train_datagen.flow_from_directory(\n",
        "    valid_data_dir,\n",
        "    target_size=(img_height,img_width),\n",
        "    batch_size=batch_size,\n",
        "    class_mode='categorical',\n",
        "    subset='validation')"
      ],
      "metadata": {
        "id": "wJVVs_5IWmr0",
        "colab": {
          "base_uri": "https://localhost:8080/"
        },
        "outputId": "288e984c-f581-42a1-f22f-13bc8b343133"
      },
      "execution_count": 5,
      "outputs": [
        {
          "output_type": "stream",
          "name": "stdout",
          "text": [
            "Found 1724 images belonging to 4 classes.\n",
            "Found 157 images belonging to 4 classes.\n"
          ]
        }
      ]
    },
    {
      "cell_type": "code",
      "source": [
        "test_generator = train_datagen.flow_from_directory(\n",
        "    test_data_dir,\n",
        "    target_size=(img_height,img_width),\n",
        "    batch_size=1,\n",
        "    class_mode='categorical',\n",
        "    subset='validation')"
      ],
      "metadata": {
        "id": "ZM1_XBprSdKl",
        "colab": {
          "base_uri": "https://localhost:8080/"
        },
        "outputId": "dc7201a5-a18c-4e34-f499-c907ea29b995"
      },
      "execution_count": 6,
      "outputs": [
        {
          "output_type": "stream",
          "name": "stdout",
          "text": [
            "Found 157 images belonging to 4 classes.\n"
          ]
        }
      ]
    },
    {
      "cell_type": "code",
      "source": [
        "x,y = test_generator.next()\n",
        "x.shape"
      ],
      "metadata": {
        "id": "-7_dGVekbv9E",
        "colab": {
          "base_uri": "https://localhost:8080/"
        },
        "outputId": "8930b712-4b18-4808-e090-1ba876e4077e"
      },
      "execution_count": 7,
      "outputs": [
        {
          "output_type": "execute_result",
          "data": {
            "text/plain": [
              "(1, 244, 244, 3)"
            ]
          },
          "metadata": {},
          "execution_count": 7
        }
      ]
    },
    {
      "cell_type": "code",
      "source": [
        "base_model = ResNet50(include_top=False, weights = 'imagenet')\n",
        "x = base_model.output\n",
        "x = GlobalAveragePooling2D()(x)\n",
        "x = Dense(1024, activation='relu')(x)\n",
        "predictions = Dense(train_generator.num_classes, activation='softmax')(x)\n",
        "model = Model(inputs=base_model.input, outputs=predictions)\n",
        "\n",
        "for layer in base_model.layers:\n",
        "  layer.trainable = False\n",
        "\n",
        "model.compile(optimizer='adam',loss = 'categorical_crossentropy', metrics = ['accuracy'])\n",
        "model.fit(train_generator, epochs = 150)"
      ],
      "metadata": {
        "id": "kuN9IwR5b9BV",
        "colab": {
          "base_uri": "https://localhost:8080/"
        },
        "outputId": "89e35295-d426-4a78-c8b2-6fcbc5991721"
      },
      "execution_count": 14,
      "outputs": [
        {
          "output_type": "stream",
          "name": "stdout",
          "text": [
            "Epoch 1/150\n",
            "54/54 [==============================] - 33s 563ms/step - loss: 1.1350 - accuracy: 0.6833\n",
            "Epoch 2/150\n",
            "54/54 [==============================] - 34s 632ms/step - loss: 0.3980 - accuracy: 0.8492\n",
            "Epoch 3/150\n",
            "54/54 [==============================] - 30s 552ms/step - loss: 0.3162 - accuracy: 0.8799\n",
            "Epoch 4/150\n",
            "54/54 [==============================] - 30s 558ms/step - loss: 0.2953 - accuracy: 0.8846\n",
            "Epoch 5/150\n",
            "54/54 [==============================] - 29s 541ms/step - loss: 0.2407 - accuracy: 0.9084\n",
            "Epoch 6/150\n",
            "54/54 [==============================] - 30s 546ms/step - loss: 0.2121 - accuracy: 0.9194\n",
            "Epoch 7/150\n",
            "54/54 [==============================] - 29s 544ms/step - loss: 0.1800 - accuracy: 0.9356\n",
            "Epoch 8/150\n",
            "54/54 [==============================] - 29s 541ms/step - loss: 0.1892 - accuracy: 0.9292\n",
            "Epoch 9/150\n",
            "54/54 [==============================] - 29s 538ms/step - loss: 0.2115 - accuracy: 0.9234\n",
            "Epoch 10/150\n",
            "54/54 [==============================] - 29s 540ms/step - loss: 0.1666 - accuracy: 0.9345\n",
            "Epoch 11/150\n",
            "54/54 [==============================] - 29s 538ms/step - loss: 0.1312 - accuracy: 0.9524\n",
            "Epoch 12/150\n",
            "54/54 [==============================] - 29s 542ms/step - loss: 0.1339 - accuracy: 0.9548\n",
            "Epoch 13/150\n",
            "54/54 [==============================] - 30s 547ms/step - loss: 0.1098 - accuracy: 0.9594\n",
            "Epoch 14/150\n",
            "54/54 [==============================] - 29s 536ms/step - loss: 0.0942 - accuracy: 0.9611\n",
            "Epoch 15/150\n",
            "54/54 [==============================] - 29s 540ms/step - loss: 0.1231 - accuracy: 0.9530\n",
            "Epoch 16/150\n",
            "54/54 [==============================] - 29s 536ms/step - loss: 0.1055 - accuracy: 0.9617\n",
            "Epoch 17/150\n",
            "54/54 [==============================] - 29s 538ms/step - loss: 0.0906 - accuracy: 0.9646\n",
            "Epoch 18/150\n",
            "54/54 [==============================] - 29s 538ms/step - loss: 0.1005 - accuracy: 0.9629\n",
            "Epoch 19/150\n",
            "54/54 [==============================] - 29s 537ms/step - loss: 0.0837 - accuracy: 0.9693\n",
            "Epoch 20/150\n",
            "54/54 [==============================] - 29s 537ms/step - loss: 0.0901 - accuracy: 0.9640\n",
            "Epoch 21/150\n",
            "54/54 [==============================] - 29s 537ms/step - loss: 0.0819 - accuracy: 0.9652\n",
            "Epoch 22/150\n",
            "54/54 [==============================] - 29s 537ms/step - loss: 0.0628 - accuracy: 0.9745\n",
            "Epoch 23/150\n",
            "54/54 [==============================] - 30s 552ms/step - loss: 0.0667 - accuracy: 0.9797\n",
            "Epoch 24/150\n",
            "54/54 [==============================] - 29s 536ms/step - loss: 0.0516 - accuracy: 0.9843\n",
            "Epoch 25/150\n",
            "54/54 [==============================] - 29s 538ms/step - loss: 0.0628 - accuracy: 0.9791\n",
            "Epoch 26/150\n",
            "54/54 [==============================] - 29s 535ms/step - loss: 0.0686 - accuracy: 0.9762\n",
            "Epoch 27/150\n",
            "54/54 [==============================] - 29s 537ms/step - loss: 0.0508 - accuracy: 0.9785\n",
            "Epoch 28/150\n",
            "54/54 [==============================] - 29s 541ms/step - loss: 0.0461 - accuracy: 0.9820\n",
            "Epoch 29/150\n",
            "54/54 [==============================] - 29s 536ms/step - loss: 0.0438 - accuracy: 0.9855\n",
            "Epoch 30/150\n",
            "54/54 [==============================] - 29s 537ms/step - loss: 0.0715 - accuracy: 0.9722\n",
            "Epoch 31/150\n",
            "54/54 [==============================] - 29s 536ms/step - loss: 0.0606 - accuracy: 0.9780\n",
            "Epoch 32/150\n",
            "54/54 [==============================] - 29s 538ms/step - loss: 0.0659 - accuracy: 0.9739\n",
            "Epoch 33/150\n",
            "54/54 [==============================] - 29s 534ms/step - loss: 0.0797 - accuracy: 0.9722\n",
            "Epoch 34/150\n",
            "54/54 [==============================] - 30s 547ms/step - loss: 0.0482 - accuracy: 0.9809\n",
            "Epoch 35/150\n",
            "54/54 [==============================] - 29s 534ms/step - loss: 0.0605 - accuracy: 0.9756\n",
            "Epoch 36/150\n",
            "54/54 [==============================] - 29s 534ms/step - loss: 0.0864 - accuracy: 0.9704\n",
            "Epoch 37/150\n",
            "54/54 [==============================] - 29s 537ms/step - loss: 0.0386 - accuracy: 0.9884\n",
            "Epoch 38/150\n",
            "54/54 [==============================] - 29s 533ms/step - loss: 0.0640 - accuracy: 0.9751\n",
            "Epoch 39/150\n",
            "54/54 [==============================] - 29s 536ms/step - loss: 0.0353 - accuracy: 0.9872\n",
            "Epoch 40/150\n",
            "54/54 [==============================] - 29s 535ms/step - loss: 0.0387 - accuracy: 0.9861\n",
            "Epoch 41/150\n",
            "54/54 [==============================] - 29s 535ms/step - loss: 0.0342 - accuracy: 0.9867\n",
            "Epoch 42/150\n",
            "54/54 [==============================] - 29s 531ms/step - loss: 0.0319 - accuracy: 0.9872\n",
            "Epoch 43/150\n",
            "54/54 [==============================] - 29s 535ms/step - loss: 0.0336 - accuracy: 0.9884\n",
            "Epoch 44/150\n",
            "54/54 [==============================] - 30s 551ms/step - loss: 0.0297 - accuracy: 0.9896\n",
            "Epoch 45/150\n",
            "54/54 [==============================] - 29s 539ms/step - loss: 0.0263 - accuracy: 0.9913\n",
            "Epoch 46/150\n",
            "54/54 [==============================] - 29s 537ms/step - loss: 0.0434 - accuracy: 0.9843\n",
            "Epoch 47/150\n",
            "54/54 [==============================] - 29s 536ms/step - loss: 0.0430 - accuracy: 0.9809\n",
            "Epoch 48/150\n",
            "54/54 [==============================] - 29s 538ms/step - loss: 0.0226 - accuracy: 0.9919\n",
            "Epoch 49/150\n",
            "54/54 [==============================] - 29s 534ms/step - loss: 0.0328 - accuracy: 0.9890\n",
            "Epoch 50/150\n",
            "54/54 [==============================] - 29s 533ms/step - loss: 0.0649 - accuracy: 0.9739\n",
            "Epoch 51/150\n",
            "54/54 [==============================] - 29s 540ms/step - loss: 0.0282 - accuracy: 0.9942\n",
            "Epoch 52/150\n",
            "54/54 [==============================] - 29s 541ms/step - loss: 0.0460 - accuracy: 0.9826\n",
            "Epoch 53/150\n",
            "54/54 [==============================] - 29s 536ms/step - loss: 0.0433 - accuracy: 0.9855\n",
            "Epoch 54/150\n",
            "54/54 [==============================] - 30s 548ms/step - loss: 0.0357 - accuracy: 0.9849\n",
            "Epoch 55/150\n",
            "54/54 [==============================] - 29s 537ms/step - loss: 0.0616 - accuracy: 0.9745\n",
            "Epoch 56/150\n",
            "54/54 [==============================] - 29s 537ms/step - loss: 0.0381 - accuracy: 0.9890\n",
            "Epoch 57/150\n",
            "54/54 [==============================] - 29s 537ms/step - loss: 0.0227 - accuracy: 0.9913\n",
            "Epoch 58/150\n",
            "54/54 [==============================] - 29s 539ms/step - loss: 0.0287 - accuracy: 0.9872\n",
            "Epoch 59/150\n",
            "54/54 [==============================] - 30s 545ms/step - loss: 0.0250 - accuracy: 0.9913\n",
            "Epoch 60/150\n",
            "54/54 [==============================] - 29s 543ms/step - loss: 0.0258 - accuracy: 0.9925\n",
            "Epoch 61/150\n",
            "54/54 [==============================] - 29s 539ms/step - loss: 0.0228 - accuracy: 0.9930\n",
            "Epoch 62/150\n",
            "54/54 [==============================] - 29s 538ms/step - loss: 0.0724 - accuracy: 0.9716\n",
            "Epoch 63/150\n",
            "54/54 [==============================] - 29s 537ms/step - loss: 0.0334 - accuracy: 0.9890\n",
            "Epoch 64/150\n",
            "54/54 [==============================] - 30s 547ms/step - loss: 0.0180 - accuracy: 0.9942\n",
            "Epoch 65/150\n",
            "54/54 [==============================] - 29s 540ms/step - loss: 0.0109 - accuracy: 0.9971\n",
            "Epoch 66/150\n",
            "54/54 [==============================] - 29s 544ms/step - loss: 0.0089 - accuracy: 0.9971\n",
            "Epoch 67/150\n",
            "54/54 [==============================] - 29s 541ms/step - loss: 0.0199 - accuracy: 0.9913\n",
            "Epoch 68/150\n",
            "54/54 [==============================] - 29s 540ms/step - loss: 0.0177 - accuracy: 0.9942\n",
            "Epoch 69/150\n",
            "54/54 [==============================] - 29s 541ms/step - loss: 0.0254 - accuracy: 0.9913\n",
            "Epoch 70/150\n",
            "54/54 [==============================] - 29s 543ms/step - loss: 0.0246 - accuracy: 0.9913\n",
            "Epoch 71/150\n",
            "54/54 [==============================] - 29s 541ms/step - loss: 0.0344 - accuracy: 0.9855\n",
            "Epoch 72/150\n",
            "54/54 [==============================] - 29s 541ms/step - loss: 0.0455 - accuracy: 0.9838\n",
            "Epoch 73/150\n",
            "54/54 [==============================] - 29s 542ms/step - loss: 0.0390 - accuracy: 0.9843\n",
            "Epoch 74/150\n",
            "54/54 [==============================] - 29s 540ms/step - loss: 0.0911 - accuracy: 0.9658\n",
            "Epoch 75/150\n",
            "54/54 [==============================] - 30s 550ms/step - loss: 0.0733 - accuracy: 0.9745\n",
            "Epoch 76/150\n",
            "54/54 [==============================] - 29s 542ms/step - loss: 0.0391 - accuracy: 0.9878\n",
            "Epoch 77/150\n",
            "54/54 [==============================] - 29s 542ms/step - loss: 0.0095 - accuracy: 0.9988\n",
            "Epoch 78/150\n",
            "54/54 [==============================] - 29s 542ms/step - loss: 0.0247 - accuracy: 0.9907\n",
            "Epoch 79/150\n",
            "54/54 [==============================] - 30s 545ms/step - loss: 0.0295 - accuracy: 0.9913\n",
            "Epoch 80/150\n",
            "54/54 [==============================] - 29s 540ms/step - loss: 0.0354 - accuracy: 0.9872\n",
            "Epoch 81/150\n",
            "54/54 [==============================] - 29s 540ms/step - loss: 0.0121 - accuracy: 0.9959\n",
            "Epoch 82/150\n",
            "54/54 [==============================] - 29s 539ms/step - loss: 0.0126 - accuracy: 0.9948\n",
            "Epoch 83/150\n",
            "54/54 [==============================] - 30s 546ms/step - loss: 0.0205 - accuracy: 0.9925\n",
            "Epoch 84/150\n",
            "54/54 [==============================] - 30s 549ms/step - loss: 0.0100 - accuracy: 0.9954\n",
            "Epoch 85/150\n",
            "54/54 [==============================] - 30s 550ms/step - loss: 0.0265 - accuracy: 0.9925\n",
            "Epoch 86/150\n",
            "54/54 [==============================] - 29s 542ms/step - loss: 0.0153 - accuracy: 0.9954\n",
            "Epoch 87/150\n",
            "54/54 [==============================] - 29s 539ms/step - loss: 0.0097 - accuracy: 0.9965\n",
            "Epoch 88/150\n",
            "54/54 [==============================] - 29s 540ms/step - loss: 0.0180 - accuracy: 0.9936\n",
            "Epoch 89/150\n",
            "54/54 [==============================] - 30s 546ms/step - loss: 0.0161 - accuracy: 0.9954\n",
            "Epoch 90/150\n",
            "54/54 [==============================] - 29s 540ms/step - loss: 0.0412 - accuracy: 0.9826\n",
            "Epoch 91/150\n",
            "54/54 [==============================] - 29s 540ms/step - loss: 0.0405 - accuracy: 0.9838\n",
            "Epoch 92/150\n",
            "54/54 [==============================] - 30s 546ms/step - loss: 0.0202 - accuracy: 0.9925\n",
            "Epoch 93/150\n",
            "54/54 [==============================] - 29s 540ms/step - loss: 0.0145 - accuracy: 0.9942\n",
            "Epoch 94/150\n",
            "54/54 [==============================] - 29s 543ms/step - loss: 0.0150 - accuracy: 0.9936\n",
            "Epoch 95/150\n",
            "54/54 [==============================] - 29s 541ms/step - loss: 0.0103 - accuracy: 0.9971\n",
            "Epoch 96/150\n",
            "54/54 [==============================] - 30s 553ms/step - loss: 0.0150 - accuracy: 0.9930\n",
            "Epoch 97/150\n",
            "54/54 [==============================] - 29s 544ms/step - loss: 0.0117 - accuracy: 0.9959\n",
            "Epoch 98/150\n",
            "54/54 [==============================] - 29s 544ms/step - loss: 0.0056 - accuracy: 0.9977\n",
            "Epoch 99/150\n",
            "54/54 [==============================] - 30s 546ms/step - loss: 0.0422 - accuracy: 0.9861\n",
            "Epoch 100/150\n",
            "54/54 [==============================] - 29s 542ms/step - loss: 0.0365 - accuracy: 0.9884\n",
            "Epoch 101/150\n",
            "54/54 [==============================] - 30s 546ms/step - loss: 0.0119 - accuracy: 0.9959\n",
            "Epoch 102/150\n",
            "54/54 [==============================] - 30s 550ms/step - loss: 0.0097 - accuracy: 0.9971\n",
            "Epoch 103/150\n",
            "54/54 [==============================] - 29s 541ms/step - loss: 0.0188 - accuracy: 0.9919\n",
            "Epoch 104/150\n",
            "54/54 [==============================] - 29s 539ms/step - loss: 0.0045 - accuracy: 0.9994\n",
            "Epoch 105/150\n",
            "54/54 [==============================] - 30s 547ms/step - loss: 0.0098 - accuracy: 0.9959\n",
            "Epoch 106/150\n",
            "54/54 [==============================] - 30s 552ms/step - loss: 0.0124 - accuracy: 0.9959\n",
            "Epoch 107/150\n",
            "54/54 [==============================] - 29s 543ms/step - loss: 0.0144 - accuracy: 0.9954\n",
            "Epoch 108/150\n",
            "54/54 [==============================] - 30s 545ms/step - loss: 0.0349 - accuracy: 0.9896\n",
            "Epoch 109/150\n",
            "54/54 [==============================] - 29s 542ms/step - loss: 0.0166 - accuracy: 0.9925\n",
            "Epoch 110/150\n",
            "54/54 [==============================] - 29s 544ms/step - loss: 0.0359 - accuracy: 0.9843\n",
            "Epoch 111/150\n",
            "54/54 [==============================] - 29s 544ms/step - loss: 0.0128 - accuracy: 0.9942\n",
            "Epoch 112/150\n",
            "54/54 [==============================] - 29s 540ms/step - loss: 0.0175 - accuracy: 0.9936\n",
            "Epoch 113/150\n",
            "54/54 [==============================] - 30s 548ms/step - loss: 0.0464 - accuracy: 0.9843\n",
            "Epoch 114/150\n",
            "54/54 [==============================] - 29s 543ms/step - loss: 0.0434 - accuracy: 0.9809\n",
            "Epoch 115/150\n",
            "54/54 [==============================] - 29s 543ms/step - loss: 0.0565 - accuracy: 0.9843\n",
            "Epoch 116/150\n",
            "54/54 [==============================] - 30s 558ms/step - loss: 0.0402 - accuracy: 0.9872\n",
            "Epoch 117/150\n",
            "54/54 [==============================] - 30s 546ms/step - loss: 0.0260 - accuracy: 0.9890\n",
            "Epoch 118/150\n",
            "54/54 [==============================] - 30s 546ms/step - loss: 0.0265 - accuracy: 0.9930\n",
            "Epoch 119/150\n",
            "54/54 [==============================] - 30s 548ms/step - loss: 0.0225 - accuracy: 0.9925\n",
            "Epoch 120/150\n",
            "54/54 [==============================] - 29s 541ms/step - loss: 0.0156 - accuracy: 0.9930\n",
            "Epoch 121/150\n",
            "54/54 [==============================] - 29s 543ms/step - loss: 0.0087 - accuracy: 0.9971\n",
            "Epoch 122/150\n",
            "54/54 [==============================] - 29s 543ms/step - loss: 0.0213 - accuracy: 0.9901\n",
            "Epoch 123/150\n",
            "54/54 [==============================] - 29s 541ms/step - loss: 0.0055 - accuracy: 0.9977\n",
            "Epoch 124/150\n",
            "54/54 [==============================] - 29s 544ms/step - loss: 0.0099 - accuracy: 0.9965\n",
            "Epoch 125/150\n",
            "54/54 [==============================] - 29s 544ms/step - loss: 0.0068 - accuracy: 0.9983\n",
            "Epoch 126/150\n",
            "54/54 [==============================] - 29s 540ms/step - loss: 0.0116 - accuracy: 0.9959\n",
            "Epoch 127/150\n",
            "54/54 [==============================] - 30s 553ms/step - loss: 0.0034 - accuracy: 1.0000\n",
            "Epoch 128/150\n",
            "54/54 [==============================] - 29s 541ms/step - loss: 0.0074 - accuracy: 0.9971\n",
            "Epoch 129/150\n",
            "54/54 [==============================] - 29s 545ms/step - loss: 0.0159 - accuracy: 0.9936\n",
            "Epoch 130/150\n",
            "54/54 [==============================] - 29s 542ms/step - loss: 0.0150 - accuracy: 0.9948\n",
            "Epoch 131/150\n",
            "54/54 [==============================] - 29s 540ms/step - loss: 0.0078 - accuracy: 0.9971\n",
            "Epoch 132/150\n",
            "54/54 [==============================] - 29s 543ms/step - loss: 0.0063 - accuracy: 0.9971\n",
            "Epoch 133/150\n",
            "54/54 [==============================] - 30s 549ms/step - loss: 0.0051 - accuracy: 0.9988\n",
            "Epoch 134/150\n",
            "54/54 [==============================] - 29s 542ms/step - loss: 0.0024 - accuracy: 0.9994\n",
            "Epoch 135/150\n",
            "54/54 [==============================] - 30s 553ms/step - loss: 0.0014 - accuracy: 1.0000\n",
            "Epoch 136/150\n",
            "54/54 [==============================] - 29s 542ms/step - loss: 0.0064 - accuracy: 0.9965\n",
            "Epoch 137/150\n",
            "54/54 [==============================] - 30s 556ms/step - loss: 0.0300 - accuracy: 0.9884\n",
            "Epoch 138/150\n",
            "54/54 [==============================] - 30s 550ms/step - loss: 0.0574 - accuracy: 0.9861\n",
            "Epoch 139/150\n",
            "54/54 [==============================] - 29s 539ms/step - loss: 0.0199 - accuracy: 0.9965\n",
            "Epoch 140/150\n",
            "54/54 [==============================] - 30s 554ms/step - loss: 0.0308 - accuracy: 0.9907\n",
            "Epoch 141/150\n",
            "54/54 [==============================] - 30s 554ms/step - loss: 0.0137 - accuracy: 0.9948\n",
            "Epoch 142/150\n",
            "54/54 [==============================] - 29s 543ms/step - loss: 0.0213 - accuracy: 0.9925\n",
            "Epoch 143/150\n",
            "54/54 [==============================] - 29s 544ms/step - loss: 0.0133 - accuracy: 0.9959\n",
            "Epoch 144/150\n",
            "54/54 [==============================] - 30s 546ms/step - loss: 0.0121 - accuracy: 0.9959\n",
            "Epoch 145/150\n",
            "54/54 [==============================] - 30s 546ms/step - loss: 0.0087 - accuracy: 0.9959\n",
            "Epoch 146/150\n",
            "54/54 [==============================] - 29s 544ms/step - loss: 0.0168 - accuracy: 0.9954\n",
            "Epoch 147/150\n",
            "54/54 [==============================] - 29s 543ms/step - loss: 0.0272 - accuracy: 0.9925\n",
            "Epoch 148/150\n",
            "54/54 [==============================] - 30s 558ms/step - loss: 0.0048 - accuracy: 0.9988\n",
            "Epoch 149/150\n",
            "54/54 [==============================] - 30s 548ms/step - loss: 0.0278 - accuracy: 0.9936\n",
            "Epoch 150/150\n",
            "54/54 [==============================] - 29s 542ms/step - loss: 0.0070 - accuracy: 0.9971\n"
          ]
        },
        {
          "output_type": "execute_result",
          "data": {
            "text/plain": [
              "<keras.callbacks.History at 0x7f3614ba7a50>"
            ]
          },
          "metadata": {},
          "execution_count": 14
        }
      ]
    },
    {
      "cell_type": "code",
      "source": [
        "test_loss, test_acc = model.evaluate(test_generator, verbose=2)"
      ],
      "metadata": {
        "id": "PNyz9j0MeBDf",
        "colab": {
          "base_uri": "https://localhost:8080/"
        },
        "outputId": "2ae597a9-5ed9-4cc7-f5c0-8dabba6488dd"
      },
      "execution_count": 24,
      "outputs": [
        {
          "output_type": "stream",
          "name": "stdout",
          "text": [
            "157/157 - 4s - loss: 5.5280 - accuracy: 0.5669 - 4s/epoch - 23ms/step\n"
          ]
        }
      ]
    },
    {
      "cell_type": "code",
      "source": [
        "print('\\nTest accuracy:',test_acc)"
      ],
      "metadata": {
        "colab": {
          "base_uri": "https://localhost:8080/"
        },
        "id": "tQxJT4pIjdhn",
        "outputId": "a09d6b33-8186-4cba-c83d-093cfa55e287"
      },
      "execution_count": 21,
      "outputs": [
        {
          "output_type": "stream",
          "name": "stdout",
          "text": [
            "\n",
            "Test accuracy: 0.5732483863830566\n"
          ]
        }
      ]
    },
    {
      "cell_type": "code",
      "source": [
        "model.save(\"/content/save.h5\")"
      ],
      "metadata": {
        "id": "IXlcsGN8-Jrj"
      },
      "execution_count": 25,
      "outputs": []
    },
    {
      "cell_type": "code",
      "source": [
        "import pandas as pd\n",
        "import seaborn as sn\n",
        "import tensorflow as tf\n",
        "\n",
        "model = tf.keras.models.load_model(\"/content/save.h5\")\n",
        "filenames = test_generator.filenames\n",
        "nb_samples = len(test_generator)\n",
        "y_prob=[]\n",
        "y_act=[]\n",
        "test_generator.reset()\n",
        "for _ in range(nb_samples):\n",
        "  X_test,Y_test = test_generator.next()\n",
        "  y_prob.append(Y_test)\n",
        "  y_act.append(Y_test)\n",
        "\n",
        "predicted_class = [list(train_generator.class_indices.keys())[i.argmax()] for i in y_prob]\n",
        "actual_class = [list(train_generator.class_indices.keys())[i.argmax()] for i in y_act]\n",
        "\n",
        "out_df = pd.DataFrame(np.vstack([predicted_class,actual_class]).T,columns=['predicted_class','actual_class'])\n",
        "confusion_matrix = pd.crosstab(out_df['actual_class'],out_df['predicted_class'], rownames=['Actual'],colnames=['Predicted'])\n",
        "\n",
        "sn.heatmap(confusion_matrix,cmap='Blues', annot=True,fmt='d')\n",
        "plt.show()\n",
        "print('test accuracy : ()'.format((np.diagonal(confusion_matrix).sum()/confusion_matrix.sum().sum()*100)))"
      ],
      "metadata": {
        "colab": {
          "base_uri": "https://localhost:8080/",
          "height": 384
        },
        "id": "hzq6rMSoj8Pa",
        "outputId": "0cb5410f-853a-405b-8d01-e100dd2e25fb"
      },
      "execution_count": 29,
      "outputs": [
        {
          "output_type": "display_data",
          "data": {
            "text/plain": [
              "<Figure size 432x288 with 2 Axes>"
            ],
            "image/png": "[encoded data removed]"
          },
          "metadata": {
            "needs_background": "light"
          }
        },
        {
          "output_type": "stream",
          "name": "stdout",
          "text": [
            "test accuracy : ()\n"
          ]
        }
      ]
    }
  ]
}