{
  "nbformat": 4,
  "nbformat_minor": 0,
  "metadata": {
    "colab": {
      "name": "resnet_dwt.ipynb",
      "provenance": []
    },
    "kernelspec": {
      "name": "python3",
      "display_name": "Python 3"
    },
    "language_info": {
      "name": "python"
    },
    "accelerator": "GPU"
  },
  "cells": [
    {
      "cell_type": "code",
      "execution_count": 1,
      "metadata": {
        "id": "K3B0ciskrWsP",
        "colab": {
          "base_uri": "https://localhost:8080/"
        },
        "outputId": "54483396-e519-479b-c69e-4dce64509727"
      },
      "outputs": [
        {
          "output_type": "stream",
          "name": "stdout",
          "text": [
            "Mounted at /content/drive\n"
          ]
        }
      ],
      "source": [
        "from google.colab import drive\n",
        "drive.mount('/content/drive')"
      ]
    },
    {
      "cell_type": "code",
      "source": [
        "from tensorflow.keras.layers import Conv2D,Flatten,Dense,MaxPool2D,BatchNormalization,GlobalAveragePooling2D\n",
        "from tensorflow.keras.applications.resnet50 import preprocess_input,decode_predictions\n",
        "from tensorflow.keras.preprocessing.image import ImageDataGenerator,load_img\n",
        "from tensorflow.keras.applications.resnet50 import ResNet50\n",
        "from tensorflow.keras.preprocessing import image\n",
        "from tensorflow.keras.models import Sequential\n",
        "from tensorflow.keras.models import Model\n",
        "import matplotlib.pyplot as plt\n",
        "import numpy as np"
      ],
      "metadata": {
        "id": "gQuQLOH2reYS"
      },
      "execution_count": 2,
      "outputs": []
    },
    {
      "cell_type": "code",
      "source": [
        "img_height, img_width = (244,244)\n",
        "batch_size = 32\n",
        "\n",
        "train_data_dir = r\"/content/drive/MyDrive/BrainTumor/DWTImages/training\"\n",
        "valid_data_dir = r\"/content/drive/MyDrive/BrainTumor/DWTImages/testing\"\n",
        "test_data_dir = r\"/content/drive/MyDrive/BrainTumor/DWTImages/testing\""
      ],
      "metadata": {
        "id": "0QiAegphre_u"
      },
      "execution_count": 3,
      "outputs": []
    },
    {
      "cell_type": "code",
      "source": [
        "train_datagen = ImageDataGenerator(preprocessing_function=preprocess_input, shear_range=0.2,zoom_range=0.2,horizontal_flip=True, validation_split=0.4)\n",
        "\n",
        "train_generator = train_datagen.flow_from_directory(\n",
        "    train_data_dir,\n",
        "    target_size=(img_height,img_width),\n",
        "    batch_size=batch_size,\n",
        "    class_mode='categorical',\n",
        "    subset='training')\n",
        "\n",
        "valid_generator = train_datagen.flow_from_directory(\n",
        "    valid_data_dir,\n",
        "    target_size=(img_height,img_width),\n",
        "    batch_size=batch_size,\n",
        "    class_mode='categorical',\n",
        "    subset='validation')"
      ],
      "metadata": {
        "id": "RrKNetfmrwX0",
        "colab": {
          "base_uri": "https://localhost:8080/"
        },
        "outputId": "98874ce8-6718-4332-d907-180ed2c5c719"
      },
      "execution_count": 4,
      "outputs": [
        {
          "output_type": "stream",
          "name": "stdout",
          "text": [
            "Found 1632 images belonging to 4 classes.\n",
            "Found 39 images belonging to 4 classes.\n"
          ]
        }
      ]
    },
    {
      "cell_type": "code",
      "source": [
        "test_generator = train_datagen.flow_from_directory(\n",
        "    test_data_dir,\n",
        "    target_size=(img_height,img_width),\n",
        "    batch_size=1,\n",
        "    class_mode='categorical',\n",
        "    subset='validation')"
      ],
      "metadata": {
        "id": "h-xWh_KSriA6",
        "colab": {
          "base_uri": "https://localhost:8080/"
        },
        "outputId": "727c9db3-4fb7-4917-f9ce-05e7ab843d2e"
      },
      "execution_count": 5,
      "outputs": [
        {
          "output_type": "stream",
          "name": "stdout",
          "text": [
            "Found 39 images belonging to 4 classes.\n"
          ]
        }
      ]
    },
    {
      "cell_type": "code",
      "source": [
        "x,y = test_generator.next()\n",
        "x.shape"
      ],
      "metadata": {
        "id": "tCIUEq5Zr1ng",
        "colab": {
          "base_uri": "https://localhost:8080/"
        },
        "outputId": "d113f442-2881-4ac0-e8c7-7a75167f5b57"
      },
      "execution_count": 6,
      "outputs": [
        {
          "output_type": "execute_result",
          "data": {
            "text/plain": [
              "(1, 244, 244, 3)"
            ]
          },
          "metadata": {},
          "execution_count": 6
        }
      ]
    },
    {
      "cell_type": "code",
      "source": [
        "base_model = ResNet50(include_top=False, weights = 'imagenet')\n",
        "x = base_model.output\n",
        "x = GlobalAveragePooling2D()(x)\n",
        "x = Dense(1024, activation='relu')(x)\n",
        "predictions = Dense(train_generator.num_classes, activation='softmax')(x)\n",
        "model = Model(inputs=base_model.input, outputs=predictions)\n",
        "\n",
        "for layer in base_model.layers:\n",
        "  layer.trainable = False\n",
        "\n",
        "model.compile(optimizer='adam',loss = 'categorical_crossentropy', metrics = ['accuracy'])\n",
        "model.fit(train_generator, epochs = 10)"
      ],
      "metadata": {
        "id": "h96CYNM7r8Y6",
        "colab": {
          "base_uri": "https://localhost:8080/"
        },
        "outputId": "5d4db923-9979-4581-875a-5100655ddb6e"
      },
      "execution_count": 7,
      "outputs": [
        {
          "output_type": "stream",
          "name": "stdout",
          "text": [
            "Downloading data from https://storage.googleapis.com/tensorflow/keras-applications/resnet/resnet50_weights_tf_dim_ordering_tf_kernels_notop.h5\n",
            "94773248/94765736 [==============================] - 1s 0us/step\n",
            "94781440/94765736 [==============================] - 1s 0us/step\n",
            "Epoch 1/10\n",
            "51/51 [==============================] - 364s 7s/step - loss: 1.1881 - accuracy: 0.7230\n",
            "Epoch 2/10\n",
            "51/51 [==============================] - 37s 720ms/step - loss: 0.3528 - accuracy: 0.8627\n",
            "Epoch 3/10\n",
            "51/51 [==============================] - 37s 727ms/step - loss: 0.2501 - accuracy: 0.9001\n",
            "Epoch 4/10\n",
            "51/51 [==============================] - 37s 725ms/step - loss: 0.2679 - accuracy: 0.9013\n",
            "Epoch 5/10\n",
            "51/51 [==============================] - 37s 720ms/step - loss: 0.2369 - accuracy: 0.9148\n",
            "Epoch 6/10\n",
            "51/51 [==============================] - 38s 743ms/step - loss: 0.2124 - accuracy: 0.9173\n",
            "Epoch 7/10\n",
            "51/51 [==============================] - 37s 722ms/step - loss: 0.2085 - accuracy: 0.9173\n",
            "Epoch 8/10\n",
            "51/51 [==============================] - 36s 712ms/step - loss: 0.1952 - accuracy: 0.9228\n",
            "Epoch 9/10\n",
            "51/51 [==============================] - 37s 713ms/step - loss: 0.1855 - accuracy: 0.9320\n",
            "Epoch 10/10\n",
            "51/51 [==============================] - 37s 714ms/step - loss: 0.1785 - accuracy: 0.9283\n"
          ]
        },
        {
          "output_type": "execute_result",
          "data": {
            "text/plain": [
              "<keras.callbacks.History at 0x7f1ee889bf10>"
            ]
          },
          "metadata": {},
          "execution_count": 7
        }
      ]
    },
    {
      "cell_type": "code",
      "source": [
        "test_loss, test_acc = model.evaluate(test_generator, verbose=2)"
      ],
      "metadata": {
        "id": "4STd2Gclr9D5",
        "colab": {
          "base_uri": "https://localhost:8080/"
        },
        "outputId": "9b577575-b981-4558-88ef-832825bad9ba"
      },
      "execution_count": 16,
      "outputs": [
        {
          "output_type": "stream",
          "name": "stdout",
          "text": [
            "39/39 - 1s - loss: 1.7281 - accuracy: 0.7179 - 1s/epoch - 34ms/step\n"
          ]
        }
      ]
    },
    {
      "cell_type": "code",
      "source": [
        "model.save(\"/content/save.h5\")"
      ],
      "metadata": {
        "id": "SgZGDdz4LaFq"
      },
      "execution_count": 9,
      "outputs": []
    },
    {
      "cell_type": "code",
      "source": [
        "import pandas as pd\n",
        "import seaborn as sn\n",
        "import tensorflow as tf\n",
        "\n",
        "model = tf.keras.models.load_model(\"/content/save.h5\")\n",
        "filenames = test_generator.filenames\n",
        "nb_samples = len(test_generator)\n",
        "y_prob=[]\n",
        "y_act=[]\n",
        "test_generator.reset()\n",
        "for _ in range(nb_samples):\n",
        "  X_test,Y_test = test_generator.next()\n",
        "  y_prob.append(Y_test)\n",
        "  y_act.append(Y_test)\n",
        "\n",
        "predicted_class = [list(train_generator.class_indices.keys())[i.argmax()] for i in y_prob]\n",
        "actual_class = [list(train_generator.class_indices.keys())[i.argmax()] for i in y_act]\n",
        "\n",
        "out_df = pd.DataFrame(np.vstack([predicted_class,actual_class]).T,columns=['predicted_class','actual_class'])\n",
        "confusion_matrix = pd.crosstab(out_df['actual_class'],out_df['predicted_class'], rownames=['Actual'],colnames=['Predicted'])\n",
        "\n",
        "sn.heatmap(confusion_matrix,cmap='Blues', annot=True,fmt='d')\n",
        "plt.show()\n",
        "print('test accuracy : ()'.format((np.diagonal(confusion_matrix).sum()/confusion_matrix.sum().sum()*100)))"
      ],
      "metadata": {
        "id": "8RAIVZyxLesK",
        "colab": {
          "base_uri": "https://localhost:8080/",
          "height": 388
        },
        "outputId": "7ca40d44-5146-4b0d-cd26-12ddda1d72c9"
      },
      "execution_count": 10,
      "outputs": [
        {
          "output_type": "display_data",
          "data": {
            "text/plain": [
              "<Figure size 432x288 with 2 Axes>"
            ],
            "image/png": "[encoded data removed]"
          },
          "metadata": {
            "needs_background": "light"
          }
        },
        {
          "output_type": "stream",
          "name": "stdout",
          "text": [
            "test accuracy : ()\n"
          ]
        }
      ]
    }
  ]
}