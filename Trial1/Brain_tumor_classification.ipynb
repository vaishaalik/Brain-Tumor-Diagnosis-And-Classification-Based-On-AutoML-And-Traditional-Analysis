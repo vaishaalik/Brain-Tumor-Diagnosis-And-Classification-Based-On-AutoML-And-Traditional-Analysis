{
  "nbformat": 4,
  "nbformat_minor": 0,
  "metadata": {
    "colab": {
      "name": "Brain tumor classification",
      "provenance": []
    },
    "kernelspec": {
      "name": "python3",
      "display_name": "Python 3"
    },
    "language_info": {
      "name": "python"
    }
  },
  "cells": [
    {
      "cell_type": "code",
      "metadata": {
        "colab": {
          "base_uri": "https://localhost:8080/"
        },
        "id": "eEb2ZPVyLYTJ",
        "outputId": "f68ae00a-5830-4fdc-8efd-84ab299e71d1"
      },
      "source": [
        "#fetching the datset from dropbox\n",
        "!wget https://www.dropbox.com/sh/u16c26h7sw924ui/AADuchrtp1x8AL4HIm0W-tXGa?dl=0"
      ],
      "execution_count": 2,
      "outputs": [
        {
          "output_type": "stream",
          "name": "stdout",
          "text": [
            "--2021-09-02 13:49:34--  https://www.dropbox.com/sh/u16c26h7sw924ui/AADuchrtp1x8AL4HIm0W-tXGa?dl=0\n",
            "Resolving www.dropbox.com (www.dropbox.com)... 162.125.65.18, 2620:100:6021:18::a27d:4112\n",
            "Connecting to www.dropbox.com (www.dropbox.com)|162.125.65.18|:443... connected.\n",
            "HTTP request sent, awaiting response... 301 Moved Permanently\n",
            "Location: /sh/raw/u16c26h7sw924ui/AADuchrtp1x8AL4HIm0W-tXGa [following]\n",
            "--2021-09-02 13:49:34--  https://www.dropbox.com/sh/raw/u16c26h7sw924ui/AADuchrtp1x8AL4HIm0W-tXGa\n",
            "Reusing existing connection to www.dropbox.com:443.\n",
            "HTTP request sent, awaiting response... 302 Found\n",
            "Location: https://uc192a143476835a171661b90290.dl.dropboxusercontent.com/zip_download_get/A4xk6Hc99lH7-JdII7B4HbqaDFtqKujH6kauC1Ev1frLaglqWrTFx-6Lr_wADt0GKzOi_ek7jTmisN8tGxV7fZXG6-lsHpGfmoepXO0psTVH0g# [following]\n",
            "--2021-09-02 13:49:36--  https://uc192a143476835a171661b90290.dl.dropboxusercontent.com/zip_download_get/A4xk6Hc99lH7-JdII7B4HbqaDFtqKujH6kauC1Ev1frLaglqWrTFx-6Lr_wADt0GKzOi_ek7jTmisN8tGxV7fZXG6-lsHpGfmoepXO0psTVH0g\n",
            "Resolving uc192a143476835a171661b90290.dl.dropboxusercontent.com (uc192a143476835a171661b90290.dl.dropboxusercontent.com)... 162.125.65.15, 2620:100:6021:15::a27d:410f\n",
            "Connecting to uc192a143476835a171661b90290.dl.dropboxusercontent.com (uc192a143476835a171661b90290.dl.dropboxusercontent.com)|162.125.65.15|:443... connected.\n",
            "HTTP request sent, awaiting response... 200 OK\n",
            "Length: 93609137 (89M) [application/zip]\n",
            "Saving to: ‘AADuchrtp1x8AL4HIm0W-tXGa?dl=0’\n",
            "\n",
            "AADuchrtp1x8AL4HIm0 100%[===================>]  89.27M  4.85MB/s    in 18s     \n",
            "\n",
            "2021-09-02 13:49:56 (4.88 MB/s) - ‘AADuchrtp1x8AL4HIm0W-tXGa?dl=0’ saved [93609137/93609137]\n",
            "\n"
          ]
        }
      ]
    },
    {
      "cell_type": "code",
      "metadata": {
        "id": "aYN5KViMUIKW"
      },
      "source": [
        "#unzipping the dataset folder\n",
        "!unzip Ds"
      ],
      "execution_count": null,
      "outputs": []
    },
    {
      "cell_type": "code",
      "metadata": {
        "id": "B81YqcTkUINY"
      },
      "source": [
        "TRAIN_PATH=\"Ds/Training\""
      ],
      "execution_count": 12,
      "outputs": []
    },
    {
      "cell_type": "code",
      "metadata": {
        "id": "gFJfgGAFUIQo"
      },
      "source": [
        "VAL_PATH=\"Ds/Testing\""
      ],
      "execution_count": 13,
      "outputs": []
    },
    {
      "cell_type": "code",
      "metadata": {
        "id": "Xa6UnMGhUITi"
      },
      "source": [
        "import numpy as np\n",
        "import keras\n",
        "from keras.layers import *\n",
        "from keras.models import *\n",
        "from keras.preprocessing import image"
      ],
      "execution_count": 14,
      "outputs": []
    },
    {
      "cell_type": "code",
      "metadata": {
        "id": "Bu_VZAAZUIWQ"
      },
      "source": [
        "#model definition\n",
        "model = Sequential()\n",
        "model.add(Conv2D(32,kernel_size=(3,3),activation='relu', input_shape=(224,224,3)))\n",
        "model.add(Conv2D(64,(3,3), activation='relu'))\n",
        "model.add(MaxPooling2D(pool_size=(2,2)))\n",
        "model.add(Dropout(0.25))\n",
        "\n",
        "model.add(Conv2D(64,(3,3), activation='relu'))\n",
        "model.add(MaxPooling2D(pool_size=(2,2)))\n",
        "model.add(Dropout(0.25))\n",
        "\n",
        "model.add(Conv2D(128,(3,3), activation='relu'))\n",
        "model.add(MaxPooling2D(pool_size=(2,2)))\n",
        "model.add(Dropout(0.25))\n",
        "\n",
        "model.add(Flatten())\n",
        "model.add(Dense(64,activation='relu'))\n",
        "model.add(Dropout(0.5))\n",
        "model.add(Dense(1,activation='sigmoid'))\n",
        "\n",
        "model.compile(loss=keras.losses.binary_crossentropy, optimizer='adam',metrics=['accuracy'])\n",
        "\n",
        "#used to detect feature in very tiny areas of the image.Its gonna learn a hidden pattern.As you go deeper into the layered network,\n",
        "#the receptive feild of the CNN increases. So, the feature it extracts are quite a bigger part of the original picture.\n",
        "#(3x3) is the standard kernel size picked"
      ],
      "execution_count": 15,
      "outputs": []
    },
    {
      "cell_type": "code",
      "metadata": {
        "colab": {
          "base_uri": "https://localhost:8080/"
        },
        "id": "yhsnYvquUIYr",
        "outputId": "838455c3-8df2-4c08-fde4-474b8290aa89"
      },
      "source": [
        "model.summary()"
      ],
      "execution_count": 16,
      "outputs": [
        {
          "output_type": "stream",
          "name": "stdout",
          "text": [
            "Model: \"sequential_1\"\n",
            "_________________________________________________________________\n",
            "Layer (type)                 Output Shape              Param #   \n",
            "=================================================================\n",
            "conv2d_4 (Conv2D)            (None, 222, 222, 32)      896       \n",
            "_________________________________________________________________\n",
            "conv2d_5 (Conv2D)            (None, 220, 220, 64)      18496     \n",
            "_________________________________________________________________\n",
            "max_pooling2d_3 (MaxPooling2 (None, 110, 110, 64)      0         \n",
            "_________________________________________________________________\n",
            "dropout_4 (Dropout)          (None, 110, 110, 64)      0         \n",
            "_________________________________________________________________\n",
            "conv2d_6 (Conv2D)            (None, 108, 108, 64)      36928     \n",
            "_________________________________________________________________\n",
            "max_pooling2d_4 (MaxPooling2 (None, 54, 54, 64)        0         \n",
            "_________________________________________________________________\n",
            "dropout_5 (Dropout)          (None, 54, 54, 64)        0         \n",
            "_________________________________________________________________\n",
            "conv2d_7 (Conv2D)            (None, 52, 52, 128)       73856     \n",
            "_________________________________________________________________\n",
            "max_pooling2d_5 (MaxPooling2 (None, 26, 26, 128)       0         \n",
            "_________________________________________________________________\n",
            "dropout_6 (Dropout)          (None, 26, 26, 128)       0         \n",
            "_________________________________________________________________\n",
            "flatten_1 (Flatten)          (None, 86528)             0         \n",
            "_________________________________________________________________\n",
            "dense_2 (Dense)              (None, 64)                5537856   \n",
            "_________________________________________________________________\n",
            "dropout_7 (Dropout)          (None, 64)                0         \n",
            "_________________________________________________________________\n",
            "dense_3 (Dense)              (None, 1)                 65        \n",
            "=================================================================\n",
            "Total params: 5,668,097\n",
            "Trainable params: 5,668,097\n",
            "Non-trainable params: 0\n",
            "_________________________________________________________________\n"
          ]
        }
      ]
    },
    {
      "cell_type": "code",
      "metadata": {
        "id": "r7TyLzYSUIbd"
      },
      "source": [
        "#Train from scratch\n",
        "#so we'll use the keras image data generator library to make the data ready for the mode\n",
        "train_datagen=image.ImageDataGenerator(\n",
        "    rescale=1./255,\n",
        "    shear_range=0.2,\n",
        "    zoom_range=0.2,\n",
        "    horizontal_flip=True,\n",
        ")\n",
        "test_dataset=image.ImageDataGenerator(rescale=1./255)"
      ],
      "execution_count": 17,
      "outputs": []
    },
    {
      "cell_type": "code",
      "metadata": {
        "colab": {
          "base_uri": "https://localhost:8080/"
        },
        "id": "Yd6igAYzUIeM",
        "outputId": "094ee787-5608-4afa-f0a7-f7c5f17ca496"
      },
      "source": [
        "#creating actual generator function\n",
        "train_generator=train_datagen.flow_from_directory(\n",
        "    'Training',\n",
        "    target_size=(224,224),\n",
        "    batch_size=32,\n",
        "    class_mode='categorical'\n",
        ")"
      ],
      "execution_count": 18,
      "outputs": [
        {
          "output_type": "stream",
          "name": "stdout",
          "text": [
            "Found 2870 images belonging to 4 classes.\n"
          ]
        }
      ]
    },
    {
      "cell_type": "code",
      "metadata": {
        "colab": {
          "base_uri": "https://localhost:8080/"
        },
        "id": "bJhxOeQtUIgw",
        "outputId": "8c22c051-23b7-489f-cb21-470d43575b8f"
      },
      "source": [
        "train_generator.class_indices"
      ],
      "execution_count": 19,
      "outputs": [
        {
          "output_type": "execute_result",
          "data": {
            "text/plain": [
              "{'glioma_tumor': 0, 'meningioma_tumor': 1, 'no_tumor': 2, 'pituitary_tumor': 3}"
            ]
          },
          "metadata": {},
          "execution_count": 19
        }
      ]
    },
    {
      "cell_type": "code",
      "metadata": {
        "colab": {
          "base_uri": "https://localhost:8080/"
        },
        "id": "u7r8we6SUIjK",
        "outputId": "a686b0a6-0735-470d-9b7c-631b50b2f5cb"
      },
      "source": [
        "#creating the validation function\n",
        "validation_generator=test_dataset.flow_from_directory(\n",
        "    'Testing',\n",
        "    target_size=(224,224),\n",
        "    batch_size=32,\n",
        "    class_mode='categorical'\n",
        ")"
      ],
      "execution_count": 20,
      "outputs": [
        {
          "output_type": "stream",
          "name": "stdout",
          "text": [
            "Found 394 images belonging to 4 classes.\n"
          ]
        }
      ]
    },
    {
      "cell_type": "code",
      "metadata": {
        "colab": {
          "base_uri": "https://localhost:8080/"
        },
        "id": "ZcUb85_iUIlQ",
        "outputId": "29d7d3bc-280f-4206-9fae-ff150bd63035"
      },
      "source": [
        "hist = model.fit_generator(\n",
        "    train_generator,\n",
        "    steps_per_epoch=8,\n",
        "    epochs=10,\n",
        "    validation_data = validation_generator,\n",
        "    validation_steps=2\n",
        ")"
      ],
      "execution_count": 21,
      "outputs": [
        {
          "output_type": "stream",
          "name": "stderr",
          "text": [
            "/usr/local/lib/python3.7/dist-packages/keras/engine/training.py:1972: UserWarning: `Model.fit_generator` is deprecated and will be removed in a future version. Please use `Model.fit`, which supports generators.\n",
            "  warnings.warn('`Model.fit_generator` is deprecated and '\n"
          ]
        },
        {
          "output_type": "stream",
          "name": "stdout",
          "text": [
            "Epoch 1/10\n",
            "8/8 [==============================] - 67s 8s/step - loss: 1.0899 - accuracy: 0.5918 - val_loss: 0.6414 - val_accuracy: 0.7500\n",
            "Epoch 2/10\n",
            "8/8 [==============================] - 65s 8s/step - loss: 0.5957 - accuracy: 0.7500 - val_loss: 0.5959 - val_accuracy: 0.7500\n",
            "Epoch 3/10\n",
            "8/8 [==============================] - 62s 8s/step - loss: 0.5791 - accuracy: 0.7500 - val_loss: 0.5822 - val_accuracy: 0.7500\n",
            "Epoch 4/10\n",
            "8/8 [==============================] - 64s 8s/step - loss: 0.5750 - accuracy: 0.7500 - val_loss: 0.5739 - val_accuracy: 0.7500\n",
            "Epoch 5/10\n",
            "8/8 [==============================] - 62s 8s/step - loss: 0.5713 - accuracy: 0.7500 - val_loss: 0.5701 - val_accuracy: 0.7500\n",
            "Epoch 6/10\n",
            "8/8 [==============================] - 64s 8s/step - loss: 0.5691 - accuracy: 0.7500 - val_loss: 0.5734 - val_accuracy: 0.7500\n",
            "Epoch 7/10\n",
            "8/8 [==============================] - 63s 8s/step - loss: 0.5698 - accuracy: 0.7500 - val_loss: 0.5699 - val_accuracy: 0.7500\n",
            "Epoch 8/10\n",
            "8/8 [==============================] - 63s 8s/step - loss: 0.5684 - accuracy: 0.7500 - val_loss: 0.5693 - val_accuracy: 0.7500\n",
            "Epoch 9/10\n",
            "8/8 [==============================] - 64s 8s/step - loss: 0.5685 - accuracy: 0.7500 - val_loss: 0.5711 - val_accuracy: 0.7500\n",
            "Epoch 10/10\n",
            "8/8 [==============================] - 62s 8s/step - loss: 0.5679 - accuracy: 0.7500 - val_loss: 0.5706 - val_accuracy: 0.7500\n"
          ]
        }
      ]
    },
    {
      "cell_type": "code",
      "metadata": {
        "colab": {
          "base_uri": "https://localhost:8080/"
        },
        "id": "fJ2jq2S4Updx",
        "outputId": "4c050e7f-1223-4334-aaab-49d33239221b"
      },
      "source": [
        "model.evaluate_generator(train_generator)"
      ],
      "execution_count": 24,
      "outputs": [
        {
          "output_type": "stream",
          "name": "stderr",
          "text": [
            "/usr/local/lib/python3.7/dist-packages/keras/engine/training.py:2006: UserWarning: `Model.evaluate_generator` is deprecated and will be removed in a future version. Please use `Model.evaluate`, which supports generators.\n",
            "  warnings.warn('`Model.evaluate_generator` is deprecated and '\n"
          ]
        },
        {
          "output_type": "execute_result",
          "data": {
            "text/plain": [
              "[0.5733467936515808, 0.75]"
            ]
          },
          "metadata": {},
          "execution_count": 24
        }
      ]
    },
    {
      "cell_type": "code",
      "metadata": {
        "colab": {
          "base_uri": "https://localhost:8080/"
        },
        "id": "yTk1k9nUUpg2",
        "outputId": "56e4916e-e6e7-41a8-b360-3d0d7d38e8cc"
      },
      "source": [
        "model.evaluate_generator(validation_generator)"
      ],
      "execution_count": 25,
      "outputs": [
        {
          "output_type": "stream",
          "name": "stderr",
          "text": [
            "/usr/local/lib/python3.7/dist-packages/keras/engine/training.py:2006: UserWarning: `Model.evaluate_generator` is deprecated and will be removed in a future version. Please use `Model.evaluate`, which supports generators.\n",
            "  warnings.warn('`Model.evaluate_generator` is deprecated and '\n"
          ]
        },
        {
          "output_type": "execute_result",
          "data": {
            "text/plain": [
              "[0.5703150629997253, 0.75]"
            ]
          },
          "metadata": {},
          "execution_count": 25
        }
      ]
    },
    {
      "cell_type": "code",
      "metadata": {
        "colab": {
          "base_uri": "https://localhost:8080/"
        },
        "id": "XcC8Z05hUpj8",
        "outputId": "22e7436e-27d2-4d55-95e9-38793623be1b"
      },
      "source": [
        "# Save the entire model as a SavedModel.\n",
        "!mkdir -p saved_model\n",
        "model.save('saved_model/my_model')"
      ],
      "execution_count": 26,
      "outputs": [
        {
          "output_type": "stream",
          "name": "stdout",
          "text": [
            "INFO:tensorflow:Assets written to: saved_model/my_model/assets\n"
          ]
        }
      ]
    },
    {
      "cell_type": "code",
      "metadata": {
        "colab": {
          "base_uri": "https://localhost:8080/",
          "height": 573
        },
        "id": "KAGW0Z_4VL0Q",
        "outputId": "03c53d1c-97ef-4308-8fda-ec58390d874b"
      },
      "source": [
        "import matplotlib.pyplot as plt\n",
        "# accuracy plot \n",
        "plt.plot(hist.history['accuracy'])\n",
        "plt.plot(hist.history['val_accuracy'])\n",
        "plt.title('model accuracy')\n",
        "plt.ylabel('accuracy')\n",
        "plt.xlabel('epoch')\n",
        "plt.legend(['train', 'val'], loc='upper left')\n",
        "plt.show()\n",
        "\n",
        "# loss plot\n",
        "plt.plot(hist.history['loss'])\n",
        "plt.plot(hist.history['val_loss'])\n",
        "plt.title('model loss')\n",
        "plt.ylabel('loss')\n",
        "plt.xlabel('epoch')\n",
        "plt.legend(['train', 'test'], loc='upper left')\n",
        "plt.show()"
      ],
      "execution_count": 58,
      "outputs": [
        {
          "output_type": "display_data",
          "data": {
            "image/png": "[encoded data removed]",
            "text/plain": [
              "<Figure size 432x288 with 1 Axes>"
            ]
          },
          "metadata": {
            "needs_background": "light"
          }
        },
        {
          "output_type": "display_data",
          "data": {
            "image/png": "[encoded data removed]",
            "text/plain": [
              "<Figure size 432x288 with 1 Axes>"
            ]
          },
          "metadata": {
            "needs_background": "light"
          }
        }
      ]
    },
    {
      "cell_type": "code",
      "metadata": {
        "id": "QSZ6o0r95ewD"
      },
      "source": [
        ""
      ],
      "execution_count": null,
      "outputs": []
    }
  ]
}