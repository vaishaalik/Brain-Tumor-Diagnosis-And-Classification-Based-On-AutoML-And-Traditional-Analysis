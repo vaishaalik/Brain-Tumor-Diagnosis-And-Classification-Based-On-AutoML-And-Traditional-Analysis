{
 "cells": [
  {
   "cell_type": "code",
   "execution_count": 3,
   "id": "d541e0c5",
   "metadata": {},
   "outputs": [],
   "source": [
    "import os\n",
    "import torch\n",
    "import torchvision\n",
    "import torchvision.transforms as transforms"
   ]
  },
  {
   "cell_type": "code",
   "execution_count": 5,
   "id": "1f0677c8",
   "metadata": {},
   "outputs": [
    {
     "data": {
      "text/plain": [
       "['Testing', 'Training']"
      ]
     },
     "execution_count": 5,
     "metadata": {},
     "output_type": "execute_result"
    }
   ],
   "source": [
    "os.listdir(r'C:\\Users\\hp\\OneDrive\\Desktop\\Brain Tumor')"
   ]
  },
  {
   "cell_type": "code",
   "execution_count": 6,
   "id": "977236e9",
   "metadata": {},
   "outputs": [],
   "source": [
    "training_ds_path=r'C:\\Users\\hp\\OneDrive\\Desktop\\Brain Tumor\\Training'"
   ]
  },
  {
   "cell_type": "code",
   "execution_count": 21,
   "id": "67ca322e",
   "metadata": {},
   "outputs": [],
   "source": [
    "training_transforms=transforms.Compose([transforms.Resize((224,224)),transforms.ToTensor()])"
   ]
  },
  {
   "cell_type": "code",
   "execution_count": 22,
   "id": "b5618b48",
   "metadata": {},
   "outputs": [],
   "source": [
    "train_dataset=torchvision.datasets.ImageFolder(root=training_ds_path,transform=training_transforms)"
   ]
  },
  {
   "cell_type": "code",
   "execution_count": 23,
   "id": "ec1bc0ba",
   "metadata": {},
   "outputs": [],
   "source": [
    "train_loader=torch.utils.data.DataLoader(dataset=train_dataset,batch_size=32,shuffle=False)"
   ]
  },
  {
   "cell_type": "code",
   "execution_count": 27,
   "id": "0ce4519f",
   "metadata": {},
   "outputs": [],
   "source": [
    "#This function calculates mean ans std of each batch, adds it to their commotive sums,in the end we calculate avg by dividing \n",
    "#by total no. of images. However 1 thing to notice is that this function gives us the approx mean and std.to calculate the \n",
    "#actual avg, std  we'll have to pass the whole datset at once(as the dataset is quite large, by doig so we can run outta RAM).\n",
    "#So we cant calculate precise avg and std but we can calculate the approximate values.\n",
    "def get_mean_and_std(loader):\n",
    "    mean=0.\n",
    "    std=0.\n",
    "    total_images_count=0\n",
    "    #Now we'll iterate through all batches\n",
    "    for images, _ in loader:\n",
    "        image_count_in_a_batch=images.size(0)\n",
    "        images=images.view(image_count_in_a_batch,images.size(1),-1)\n",
    "        mean+= images.mean(2).sum(0)\n",
    "        std+=images.std(2).sum(0)\n",
    "        total_images_count= image_count_in_a_batch\n",
    "        \n",
    "    mean/= total_images_count\n",
    "    std/= total_images_count\n",
    "    \n",
    "    return mean,std"
   ]
  },
  {
   "cell_type": "code",
   "execution_count": 28,
   "id": "bb4ca470",
   "metadata": {},
   "outputs": [
    {
     "data": {
      "text/plain": [
       "(tensor([23.4081, 23.4081, 23.4081]), tensor([22.4781, 22.4781, 22.4781]))"
      ]
     },
     "execution_count": 28,
     "metadata": {},
     "output_type": "execute_result"
    }
   ],
   "source": [
    "get_mean_and_std(train_loader)"
   ]
  },
  {
   "cell_type": "code",
   "execution_count": 29,
   "id": "5ce9d03f",
   "metadata": {},
   "outputs": [],
   "source": [
    "#first part:mean,second_part:std\n",
    "#With these values we can apply normalization and improve the performance of our model."
   ]
  }
 ],
 "metadata": {
  "kernelspec": {
   "display_name": "Python 3",
   "language": "python",
   "name": "python3"
  },
  "language_info": {
   "codemirror_mode": {
    "name": "ipython",
    "version": 3
   },
   "file_extension": ".py",
   "mimetype": "text/x-python",
   "name": "python",
   "nbconvert_exporter": "python",
   "pygments_lexer": "ipython3",
   "version": "3.8.8"
  }
 },
 "nbformat": 4,
 "nbformat_minor": 5
}
